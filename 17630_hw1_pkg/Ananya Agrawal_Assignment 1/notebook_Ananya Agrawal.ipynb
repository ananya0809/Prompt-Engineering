{
 "cells": [
  {
   "cell_type": "markdown",
   "id": "d062c0a2",
   "metadata": {},
   "source": [
    "# Assignment 1 - Question Answering\n",
    "\n",
    "This notebook illustrates question answering given a text with both answerable and unanswerable questions."
   ]
  },
  {
   "cell_type": "code",
   "execution_count": 43,
   "id": "d1e71fdf",
   "metadata": {},
   "outputs": [],
   "source": [
    "# Import necessary libraries\n",
    "import json\n",
    "import openai\n",
    "import os\n",
    "from dotenv import load_dotenv\n",
    "import re\n",
    "from collections import Counter\n"
   ]
  },
  {
   "cell_type": "code",
   "execution_count": 44,
   "id": "e2637118",
   "metadata": {},
   "outputs": [],
   "source": [
    "# Set OpenAI API Key\n",
    "\n",
    "load_dotenv()  # Load environment variables from .env file\n",
    "\n",
    "openai.api_key = os.getenv(\"OPENAI_API_KEY\")"
   ]
  },
  {
   "cell_type": "markdown",
   "id": "9f736fb8",
   "metadata": {},
   "source": [
    "## Part 1: Add a New Question and Validate\n",
    "\n",
    "In this section, we add a new question using the SQuAD v2.0 format and validate that the populated template is correct using a few rules."
   ]
  },
  {
   "cell_type": "code",
   "execution_count": 45,
   "id": "1d4a2b0b",
   "metadata": {},
   "outputs": [],
   "source": [
    "data = {\n",
    "    \"context\": \"Melatonin is a hormone primarily released by the pineal gland at night and has long been associated with control of the sleep wake cycle. As a dietary supplement, it is often used for the short-term treatment of insomnia, such as from jet lag or shift work, and is typically taken orally. Evidence of its benefit for treating insomnia is unclear, as studies have generally been of low quality. It is also used for children with autism spectrum disorders or attention deficit hyperactivity disorder. Melatonin is found in animals, plants, fungi, and bacteria. Levels of melatonin are influenced by the detection of light and darkness by the retina of the eye.\",\n",
    "    \"qas\": [\n",
    "        {\n",
    "            \"question\": \"What gland releases melatonin, and when is it released?\",\n",
    "            \"answers\": [{\"text\": \"The pineal gland releases melatonin, primarily at night.\", \"start_char\": 0}],\n",
    "            \"is_impossible\": False\n",
    "        },\n",
    "        {\n",
    "            \"question\": \"For what purpose is melatonin often used as a dietary supplement?\",\n",
    "            \"answers\": [{\"text\": \"Melatonin is often used as a dietary supplement for the short-term treatment of insomnia caused by jet lag or shift work.\", \"start_char\": 0}],\n",
    "            \"is_impossible\": False\n",
    "        },\n",
    "        {\n",
    "            \"question\": \"How is melatonin typically taken as a supplement?\",\n",
    "            \"answers\": [{\"text\": \"Melatonin is typically taken orally as a supplement.\", \"start_char\": 0}],\n",
    "            \"is_impossible\": False\n",
    "        },\n",
    "        {\n",
    "            \"question\": \"What influences the levels of melatonin in the body?\",\n",
    "            \"answers\": [{\"text\": \"The levels of melatonin are influenced by the detection of light and darkness by the retina of the eye.\", \"start_char\": 0}],\n",
    "            \"is_impossible\": False\n",
    "        },\n",
    "        {\n",
    "            \"question\": \"In which living organisms is melatonin found?\",\n",
    "            \"answers\": [{\"text\": \"Melatonin is found in animals, plants, fungi, and bacteria.\", \"start_char\": 0}],\n",
    "            \"is_impossible\": False\n",
    "        },\n",
    "        {\n",
    "            \"question\": \"Who discovered the role of melatonin in sleep regulation?\",\n",
    "            \"answers\": [],\n",
    "            \"is_impossible\": True\n",
    "        },\n",
    "        {\n",
    "            \"question\": \"What are the exact mechanisms by which melatonin affects children with autism spectrum disorders?\",\n",
    "            \"answers\": [],\n",
    "            \"is_impossible\": True\n",
    "        },\n",
    "        {\n",
    "            \"question\": \"What is the chemical formula of melatonin?\",\n",
    "            \"answers\": [],\n",
    "            \"is_impossible\": True\n",
    "        },\n",
    "        {\n",
    "            \"question\": \"Which country has the highest production of melatonin supplements?\",\n",
    "            \"answers\": [],\n",
    "            \"is_impossible\": True\n",
    "        },\n",
    "        {\n",
    "            \"question\": \"How does melatonin interact with the body circadian rhythm at the molecular level?\",\n",
    "            \"answers\": [],\n",
    "            \"is_impossible\": True\n",
    "        },\n",
    "        \n",
    "    ]\n",
    "}\n",
    "json.dump(data, open('squad_questions.json', 'w+'))"
   ]
  },
  {
   "cell_type": "markdown",
   "id": "42b5e47d",
   "metadata": {},
   "source": [
    "## Part 2: Prompt GPT to Answer Questions\n",
    "\n",
    "In this section, we prompt our LM to answer the answerable and unanswerable questions and record the responses. We iterate over each question in the data structure and store the responses in answers."
   ]
  },
  {
   "cell_type": "markdown",
   "id": "6629aa13",
   "metadata": {},
   "source": [
    "1. Load the Data"
   ]
  },
  {
   "cell_type": "code",
   "execution_count": 46,
   "id": "ffd66c6f",
   "metadata": {},
   "outputs": [],
   "source": [
    "# Load the questions and answers from squad_questions.json\n",
    "with open(\"squad_questions.json\", \"r\") as file:\n",
    "    squad_data = json.load(file)\n",
    "    \n",
    "# Extract the paragraph and questions\n",
    "context = squad_data[\"context\"]  # The paragraph\n",
    "questions = squad_data[\"qas\"]    # The list of questions\n"
   ]
  },
  {
   "cell_type": "markdown",
   "id": "aca8cc37",
   "metadata": {},
   "source": [
    "2. Define the Prompt Format"
   ]
  },
  {
   "cell_type": "code",
   "execution_count": 47,
   "id": "bc0b983a",
   "metadata": {},
   "outputs": [],
   "source": [
    "def create_prompt(context, question):\n",
    "    \"\"\"\n",
    "    Create a prompt for the language model using the given context and question.\n",
    "    \"\"\"\n",
    "    return f\"\"\"Using the following paragraph, answer the questions based on your learnings from the paragraph. If there is no answer for the given questions within the context of the paragraph, return empty array []. Learn and understand the context from the given answers and try to formulate your learnings accordingly:\n",
    "\n",
    "Paragraph:\n",
    "{context}\n",
    "\n",
    "Question:\n",
    "{question}\n",
    "\n",
    "Answer the question using only the information from the paragraph. Do not include any additional commentary.\"\"\"\n"
   ]
  },
  {
   "cell_type": "markdown",
   "id": "bbceda70",
   "metadata": {},
   "source": [
    "3. Call the LLM API"
   ]
  },
  {
   "cell_type": "code",
   "execution_count": 48,
   "id": "96353c2c",
   "metadata": {},
   "outputs": [],
   "source": [
    "# Function to send a request to the LLM\n",
    "def get_llm_response(prompt, model=\"gpt-4o-mini\"):\n",
    "    \"\"\"\n",
    "    Send a request to the LLM and return the response.\n",
    "    \"\"\"\n",
    "    response = openai.ChatCompletion.create(\n",
    "        model=model,\n",
    "        messages=[\n",
    "            {\"role\": \"system\", \"content\": \"You are a helpful assistant.\"},\n",
    "            {\"role\": \"user\", \"content\": prompt}\n",
    "        ],\n",
    "        temperature=0  # Set to 0 for deterministic answers\n",
    "    )\n",
    "    return response[\"choices\"][0][\"message\"][\"content\"]\n"
   ]
  },
  {
   "cell_type": "markdown",
   "id": "17f1ebbc",
   "metadata": {},
   "source": [
    "4. Generate and Collect Responses"
   ]
  },
  {
   "cell_type": "code",
   "execution_count": 49,
   "id": "66a33d2e",
   "metadata": {},
   "outputs": [],
   "source": [
    "responses = []  # List to store question-response pairs"
   ]
  },
  {
   "cell_type": "code",
   "execution_count": 50,
   "id": "f2932089",
   "metadata": {},
   "outputs": [],
   "source": [
    "for qa in questions:\n",
    "    question = qa[\"question\"]\n",
    "    prompt = create_prompt(context, question)  # Create the prompt\n",
    "    response = get_llm_response(prompt)       # Get the response from the LLM\n",
    "    responses.append({\"question\": question, \"response\": response})  # Store the response"
   ]
  },
  {
   "cell_type": "markdown",
   "id": "c4abb84a",
   "metadata": {},
   "source": [
    "5. Save responses to a JSON file"
   ]
  },
  {
   "cell_type": "code",
   "execution_count": 51,
   "id": "35d608f5",
   "metadata": {},
   "outputs": [],
   "source": [
    "json.dump(responses, open('responses.json', 'w+'))"
   ]
  },
  {
   "cell_type": "code",
   "execution_count": 52,
   "id": "9e4b58a8",
   "metadata": {},
   "outputs": [
    {
     "name": "stdout",
     "output_type": "stream",
     "text": [
      "Question 1: What gland releases melatonin, and when is it released?\n",
      "Response: The pineal gland releases melatonin at night.\n",
      "\n",
      "Question 2: For what purpose is melatonin often used as a dietary supplement?\n",
      "Response: Melatonin is often used as a dietary supplement for the short-term treatment of insomnia, such as from jet lag or shift work.\n",
      "\n",
      "Question 3: How is melatonin typically taken as a supplement?\n",
      "Response: Melatonin is typically taken orally.\n",
      "\n",
      "Question 4: What influences the levels of melatonin in the body?\n",
      "Response: Levels of melatonin are influenced by the detection of light and darkness by the retina of the eye.\n",
      "\n",
      "Question 5: In which living organisms is melatonin found?\n",
      "Response: [ \"animals\", \"plants\", \"fungi\", \"bacteria\" ]\n",
      "\n",
      "Question 6: Who discovered the role of melatonin in sleep regulation?\n",
      "Response: []\n",
      "\n",
      "Question 7: What are the exact mechanisms by which melatonin affects children with autism spectrum disorders?\n",
      "Response: []\n",
      "\n",
      "Question 8: What is the chemical formula of melatonin?\n",
      "Response: []\n",
      "\n",
      "Question 9: Which country has the highest production of melatonin supplements?\n",
      "Response: []\n",
      "\n",
      "Question 10: How does melatonin interact with the body circadian rhythm at the molecular level?\n",
      "Response: []\n",
      "\n"
     ]
    }
   ],
   "source": [
    "# Step 5: Output Example Responses for Verification\n",
    "\n",
    "for i, item in enumerate(responses):\n",
    "    print(f\"Question {i+1}: {item['question']}\")\n",
    "    print(f\"Response: {item['response']}\\n\")"
   ]
  },
  {
   "cell_type": "markdown",
   "id": "12a5d633",
   "metadata": {},
   "source": [
    "## Part 3: Exact Match (EM) and F1-Score Evaluation of Responses\n",
    "\n",
    "In this section, we evaluate the responses using Exact Match (EM) and F1-Score compare each predicted answer to the expected answer.\n"
   ]
  },
  {
   "cell_type": "code",
   "execution_count": 53,
   "id": "1471118d",
   "metadata": {},
   "outputs": [],
   "source": [
    "# Step 6: Exact Match (EM) and F1-Score Evaluation\n",
    "def normalize_answer(s):\n",
    "    \"\"\"Lower text and remove punctuation, articles, and extra whitespace.\"\"\"\n",
    "    def remove_articles(text):\n",
    "        return re.sub(r'\\b(a|an|the)\\b', ' ', text)\n",
    "    \n",
    "    def remove_punctuation(text):\n",
    "        return re.sub(r'[^a-zA-Z0-9\\s]', '', text)\n",
    "    \n",
    "    def whitespace_fix(text):\n",
    "        return ' '.join(text.split())\n",
    "    \n",
    "    return whitespace_fix(remove_articles(remove_punctuation(s.lower())))"
   ]
  },
  {
   "cell_type": "code",
   "execution_count": 54,
   "id": "aaaca094",
   "metadata": {},
   "outputs": [],
   "source": [
    "def exact_match(prediction, ground_truth):\n",
    "    \"\"\"Compute Exact Match (EM) score.\"\"\"\n",
    "    return int(normalize_answer(prediction) == normalize_answer(ground_truth))\n",
    "\n",
    "def f1_score(prediction, ground_truth):\n",
    "    \"\"\"Compute F1-score for a given prediction and ground truth.\"\"\"\n",
    "    pred_tokens = normalize_answer(prediction).split()\n",
    "    truth_tokens = normalize_answer(ground_truth).split()\n",
    "    common = Counter(pred_tokens) & Counter(truth_tokens)\n",
    "    num_same = sum(common.values())\n",
    "    \n",
    "    if len(pred_tokens) == 0 or len(truth_tokens) == 0:\n",
    "        return int(pred_tokens == truth_tokens)\n",
    "    if num_same == 0:\n",
    "        return 0\n",
    "    precision = num_same / len(pred_tokens)\n",
    "    print(\"Precision: \", precision)\n",
    "    recall = num_same / len(truth_tokens)\n",
    "    print(\"Recall: \", recall)\n",
    "    return 2 * (precision * recall) / (precision + recall)\n"
   ]
  },
  {
   "cell_type": "code",
   "execution_count": 55,
   "id": "88285807",
   "metadata": {},
   "outputs": [
    {
     "name": "stdout",
     "output_type": "stream",
     "text": [
      "Precision:  1.0\n",
      "Recall:  0.8571428571428571\n",
      "Precision:  0.85\n",
      "Recall:  0.8947368421052632\n",
      "Precision:  1.0\n",
      "Recall:  0.7142857142857143\n",
      "Precision:  1.0\n",
      "Recall:  1.0\n",
      "Precision:  1.0\n",
      "Recall:  0.4444444444444444\n"
     ]
    }
   ],
   "source": [
    "# Step 7: Evaluate Responses\n",
    "evaluation_results = []\n",
    "\n",
    "total_em, total_f1 = 0, 0\n",
    "num_questions = len(questions)\n",
    "\n",
    "for qa, response in zip(questions, responses):\n",
    "    ground_truths = [ans[\"text\"] for ans in qa[\"answers\"]] if qa[\"answers\"] else [\"\"]\n",
    "    prediction = response[\"response\"]\n",
    "    \n",
    "    em_scores = [exact_match(prediction, gt) for gt in ground_truths]\n",
    "    f1_scores = [f1_score(prediction, gt) for gt in ground_truths]\n",
    "    \n",
    "    max_em = max(em_scores)\n",
    "    max_f1 = max(f1_scores)\n",
    "    \n",
    "    total_em += max_em\n",
    "    total_f1 += max_f1\n",
    "    \n",
    "    evaluation_results.append({\n",
    "        \"question\": qa[\"question\"],\n",
    "        \"prediction\": prediction,\n",
    "        \"exact_match\": max_em,\n",
    "        \"f1_score\": max_f1\n",
    "    })\n"
   ]
  },
  {
   "cell_type": "code",
   "execution_count": 56,
   "id": "dd3d55b7",
   "metadata": {},
   "outputs": [
    {
     "name": "stdout",
     "output_type": "stream",
     "text": [
      "Final Exact Match Score: 0.6000\n",
      "Final F1 Score: 0.9244\n"
     ]
    }
   ],
   "source": [
    "# Calculate final EM and F1 scores\n",
    "final_em = total_em / num_questions\n",
    "final_f1 = total_f1 / num_questions\n",
    "\n",
    "# Print Evaluation Summary\n",
    "print(f\"Final Exact Match Score: {final_em:.4f}\")\n",
    "print(f\"Final F1 Score: {final_f1:.4f}\")\n"
   ]
  }
 ],
 "metadata": {
  "kernelspec": {
   "display_name": "ML",
   "language": "python",
   "name": "python3"
  },
  "language_info": {
   "codemirror_mode": {
    "name": "ipython",
    "version": 3
   },
   "file_extension": ".py",
   "mimetype": "text/x-python",
   "name": "python",
   "nbconvert_exporter": "python",
   "pygments_lexer": "ipython3",
   "version": "3.9.20"
  }
 },
 "nbformat": 4,
 "nbformat_minor": 5
}
